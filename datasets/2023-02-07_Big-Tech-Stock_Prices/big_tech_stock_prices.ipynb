{
 "cells": [
  {
   "cell_type": "markdown",
   "id": "58ddd73f",
   "metadata": {},
   "source": [
    "### 📚 Citation\n",
    "\n",
    "```bibtex\n",
    "@misc{tidytuesday,  \n",
    "  title = {Tidy Tuesday: Big Tech Stock Prices},  \n",
    "  author = {Evan Gower},  \n",
    "  url = {https://www.kaggle.com/datasets/evangower/big-tech-stock-prices},  \n",
    "  year = {2023}  \n",
    "}"
   ]
  },
  {
   "cell_type": "markdown",
   "id": "04a0a573",
   "metadata": {},
   "source": [
    "### ⚙️ Setup & Imports"
   ]
  },
  {
   "cell_type": "code",
   "execution_count": 30,
   "id": "e1f5bf02",
   "metadata": {},
   "outputs": [],
   "source": [
    "import pandas as pd\n",
    "import matplotlib.pyplot as plt\n",
    "import seaborn as sns"
   ]
  },
  {
   "cell_type": "code",
   "execution_count": 31,
   "id": "77dc2077",
   "metadata": {},
   "outputs": [],
   "source": [
    "df = pd.read_csv('big_tech_stock_prices.csv', on_bad_lines='skip')"
   ]
  },
  {
   "cell_type": "markdown",
   "id": "96afd81f",
   "metadata": {},
   "source": [
    "### 🧹 Data Exploration & Cleaning"
   ]
  },
  {
   "cell_type": "code",
   "execution_count": 32,
   "id": "176a4433",
   "metadata": {},
   "outputs": [
    {
     "data": {
      "text/html": [
       "<div>\n",
       "<style scoped>\n",
       "    .dataframe tbody tr th:only-of-type {\n",
       "        vertical-align: middle;\n",
       "    }\n",
       "\n",
       "    .dataframe tbody tr th {\n",
       "        vertical-align: top;\n",
       "    }\n",
       "\n",
       "    .dataframe thead th {\n",
       "        text-align: right;\n",
       "    }\n",
       "</style>\n",
       "<table border=\"1\" class=\"dataframe\">\n",
       "  <thead>\n",
       "    <tr style=\"text-align: right;\">\n",
       "      <th></th>\n",
       "      <th>stock_symbol</th>\n",
       "      <th>date</th>\n",
       "      <th>open</th>\n",
       "      <th>high</th>\n",
       "      <th>low</th>\n",
       "      <th>close</th>\n",
       "      <th>adj_close</th>\n",
       "      <th>volume</th>\n",
       "    </tr>\n",
       "  </thead>\n",
       "  <tbody>\n",
       "    <tr>\n",
       "      <th>0</th>\n",
       "      <td>AAPL</td>\n",
       "      <td>2010-01-04</td>\n",
       "      <td>7.622500</td>\n",
       "      <td>7.660714</td>\n",
       "      <td>7.585000</td>\n",
       "      <td>7.643214</td>\n",
       "      <td>6.515213</td>\n",
       "      <td>493729600</td>\n",
       "    </tr>\n",
       "    <tr>\n",
       "      <th>1</th>\n",
       "      <td>AAPL</td>\n",
       "      <td>2010-01-05</td>\n",
       "      <td>7.664286</td>\n",
       "      <td>7.699643</td>\n",
       "      <td>7.616071</td>\n",
       "      <td>7.656429</td>\n",
       "      <td>6.526476</td>\n",
       "      <td>601904800</td>\n",
       "    </tr>\n",
       "    <tr>\n",
       "      <th>2</th>\n",
       "      <td>AAPL</td>\n",
       "      <td>2010-01-06</td>\n",
       "      <td>7.656429</td>\n",
       "      <td>7.686786</td>\n",
       "      <td>7.526786</td>\n",
       "      <td>7.534643</td>\n",
       "      <td>6.422664</td>\n",
       "      <td>552160000</td>\n",
       "    </tr>\n",
       "    <tr>\n",
       "      <th>3</th>\n",
       "      <td>AAPL</td>\n",
       "      <td>2010-01-07</td>\n",
       "      <td>7.562500</td>\n",
       "      <td>7.571429</td>\n",
       "      <td>7.466071</td>\n",
       "      <td>7.520714</td>\n",
       "      <td>6.410790</td>\n",
       "      <td>477131200</td>\n",
       "    </tr>\n",
       "    <tr>\n",
       "      <th>4</th>\n",
       "      <td>AAPL</td>\n",
       "      <td>2010-01-08</td>\n",
       "      <td>7.510714</td>\n",
       "      <td>7.571429</td>\n",
       "      <td>7.466429</td>\n",
       "      <td>7.570714</td>\n",
       "      <td>6.453412</td>\n",
       "      <td>447610800</td>\n",
       "    </tr>\n",
       "  </tbody>\n",
       "</table>\n",
       "</div>"
      ],
      "text/plain": [
       "  stock_symbol        date      open      high       low     close  adj_close  \\\n",
       "0         AAPL  2010-01-04  7.622500  7.660714  7.585000  7.643214   6.515213   \n",
       "1         AAPL  2010-01-05  7.664286  7.699643  7.616071  7.656429   6.526476   \n",
       "2         AAPL  2010-01-06  7.656429  7.686786  7.526786  7.534643   6.422664   \n",
       "3         AAPL  2010-01-07  7.562500  7.571429  7.466071  7.520714   6.410790   \n",
       "4         AAPL  2010-01-08  7.510714  7.571429  7.466429  7.570714   6.453412   \n",
       "\n",
       "      volume  \n",
       "0  493729600  \n",
       "1  601904800  \n",
       "2  552160000  \n",
       "3  477131200  \n",
       "4  447610800  "
      ]
     },
     "execution_count": 32,
     "metadata": {},
     "output_type": "execute_result"
    }
   ],
   "source": [
    "df.head()"
   ]
  },
  {
   "cell_type": "code",
   "execution_count": 33,
   "id": "19c89d75",
   "metadata": {},
   "outputs": [
    {
     "data": {
      "text/html": [
       "<div>\n",
       "<style scoped>\n",
       "    .dataframe tbody tr th:only-of-type {\n",
       "        vertical-align: middle;\n",
       "    }\n",
       "\n",
       "    .dataframe tbody tr th {\n",
       "        vertical-align: top;\n",
       "    }\n",
       "\n",
       "    .dataframe thead th {\n",
       "        text-align: right;\n",
       "    }\n",
       "</style>\n",
       "<table border=\"1\" class=\"dataframe\">\n",
       "  <thead>\n",
       "    <tr style=\"text-align: right;\">\n",
       "      <th></th>\n",
       "      <th>stock_symbol</th>\n",
       "      <th>date</th>\n",
       "      <th>open</th>\n",
       "      <th>high</th>\n",
       "      <th>low</th>\n",
       "      <th>close</th>\n",
       "      <th>adj_close</th>\n",
       "      <th>volume</th>\n",
       "    </tr>\n",
       "  </thead>\n",
       "  <tbody>\n",
       "    <tr>\n",
       "      <th>45083</th>\n",
       "      <td>TSLA</td>\n",
       "      <td>2022-12-22</td>\n",
       "      <td>136.000000</td>\n",
       "      <td>136.630005</td>\n",
       "      <td>122.260002</td>\n",
       "      <td>125.349998</td>\n",
       "      <td>125.349998</td>\n",
       "      <td>210090300</td>\n",
       "    </tr>\n",
       "    <tr>\n",
       "      <th>45084</th>\n",
       "      <td>TSLA</td>\n",
       "      <td>2022-12-23</td>\n",
       "      <td>126.370003</td>\n",
       "      <td>128.619995</td>\n",
       "      <td>121.019997</td>\n",
       "      <td>123.150002</td>\n",
       "      <td>123.150002</td>\n",
       "      <td>166989700</td>\n",
       "    </tr>\n",
       "    <tr>\n",
       "      <th>45085</th>\n",
       "      <td>TSLA</td>\n",
       "      <td>2022-12-27</td>\n",
       "      <td>117.500000</td>\n",
       "      <td>119.669998</td>\n",
       "      <td>108.760002</td>\n",
       "      <td>109.099998</td>\n",
       "      <td>109.099998</td>\n",
       "      <td>208643400</td>\n",
       "    </tr>\n",
       "    <tr>\n",
       "      <th>45086</th>\n",
       "      <td>TSLA</td>\n",
       "      <td>2022-12-28</td>\n",
       "      <td>110.349998</td>\n",
       "      <td>116.269997</td>\n",
       "      <td>108.239998</td>\n",
       "      <td>112.709999</td>\n",
       "      <td>112.709999</td>\n",
       "      <td>221070500</td>\n",
       "    </tr>\n",
       "    <tr>\n",
       "      <th>45087</th>\n",
       "      <td>TSLA</td>\n",
       "      <td>2022-12-29</td>\n",
       "      <td>120.389999</td>\n",
       "      <td>123.570000</td>\n",
       "      <td>117.500000</td>\n",
       "      <td>121.820000</td>\n",
       "      <td>121.820000</td>\n",
       "      <td>221923300</td>\n",
       "    </tr>\n",
       "  </tbody>\n",
       "</table>\n",
       "</div>"
      ],
      "text/plain": [
       "      stock_symbol        date        open        high         low  \\\n",
       "45083         TSLA  2022-12-22  136.000000  136.630005  122.260002   \n",
       "45084         TSLA  2022-12-23  126.370003  128.619995  121.019997   \n",
       "45085         TSLA  2022-12-27  117.500000  119.669998  108.760002   \n",
       "45086         TSLA  2022-12-28  110.349998  116.269997  108.239998   \n",
       "45087         TSLA  2022-12-29  120.389999  123.570000  117.500000   \n",
       "\n",
       "            close   adj_close     volume  \n",
       "45083  125.349998  125.349998  210090300  \n",
       "45084  123.150002  123.150002  166989700  \n",
       "45085  109.099998  109.099998  208643400  \n",
       "45086  112.709999  112.709999  221070500  \n",
       "45087  121.820000  121.820000  221923300  "
      ]
     },
     "execution_count": 33,
     "metadata": {},
     "output_type": "execute_result"
    }
   ],
   "source": [
    "df.tail()"
   ]
  },
  {
   "cell_type": "code",
   "execution_count": 35,
   "id": "8132d004",
   "metadata": {},
   "outputs": [
    {
     "data": {
      "text/plain": [
       "Index(['stock_symbol', 'date', 'open', 'high', 'low', 'close', 'adj_close',\n",
       "       'volume'],\n",
       "      dtype='object')"
      ]
     },
     "execution_count": 35,
     "metadata": {},
     "output_type": "execute_result"
    }
   ],
   "source": [
    "df.columns"
   ]
  },
  {
   "cell_type": "code",
   "execution_count": 34,
   "id": "0076d775",
   "metadata": {},
   "outputs": [
    {
     "data": {
      "text/plain": [
       "(45088, 8)"
      ]
     },
     "execution_count": 34,
     "metadata": {},
     "output_type": "execute_result"
    }
   ],
   "source": [
    "df.shape"
   ]
  },
  {
   "cell_type": "code",
   "execution_count": 36,
   "id": "25be9ccb",
   "metadata": {},
   "outputs": [
    {
     "data": {
      "text/html": [
       "<div>\n",
       "<style scoped>\n",
       "    .dataframe tbody tr th:only-of-type {\n",
       "        vertical-align: middle;\n",
       "    }\n",
       "\n",
       "    .dataframe tbody tr th {\n",
       "        vertical-align: top;\n",
       "    }\n",
       "\n",
       "    .dataframe thead th {\n",
       "        text-align: right;\n",
       "    }\n",
       "</style>\n",
       "<table border=\"1\" class=\"dataframe\">\n",
       "  <thead>\n",
       "    <tr style=\"text-align: right;\">\n",
       "      <th></th>\n",
       "      <th>open</th>\n",
       "      <th>high</th>\n",
       "      <th>low</th>\n",
       "      <th>close</th>\n",
       "      <th>adj_close</th>\n",
       "      <th>volume</th>\n",
       "    </tr>\n",
       "  </thead>\n",
       "  <tbody>\n",
       "    <tr>\n",
       "      <th>count</th>\n",
       "      <td>45088.000000</td>\n",
       "      <td>45088.000000</td>\n",
       "      <td>45088.000000</td>\n",
       "      <td>45088.000000</td>\n",
       "      <td>45088.000000</td>\n",
       "      <td>4.508800e+04</td>\n",
       "    </tr>\n",
       "    <tr>\n",
       "      <th>mean</th>\n",
       "      <td>89.266584</td>\n",
       "      <td>90.369825</td>\n",
       "      <td>88.111930</td>\n",
       "      <td>89.271306</td>\n",
       "      <td>85.209631</td>\n",
       "      <td>5.297813e+07</td>\n",
       "    </tr>\n",
       "    <tr>\n",
       "      <th>std</th>\n",
       "      <td>101.626955</td>\n",
       "      <td>103.001073</td>\n",
       "      <td>100.124399</td>\n",
       "      <td>101.592916</td>\n",
       "      <td>100.995967</td>\n",
       "      <td>9.324730e+07</td>\n",
       "    </tr>\n",
       "    <tr>\n",
       "      <th>min</th>\n",
       "      <td>1.076000</td>\n",
       "      <td>1.108667</td>\n",
       "      <td>0.998667</td>\n",
       "      <td>1.053333</td>\n",
       "      <td>1.053333</td>\n",
       "      <td>5.892000e+05</td>\n",
       "    </tr>\n",
       "    <tr>\n",
       "      <th>25%</th>\n",
       "      <td>25.670000</td>\n",
       "      <td>25.930135</td>\n",
       "      <td>25.360001</td>\n",
       "      <td>25.660000</td>\n",
       "      <td>22.076433</td>\n",
       "      <td>9.629425e+06</td>\n",
       "    </tr>\n",
       "    <tr>\n",
       "      <th>50%</th>\n",
       "      <td>47.930000</td>\n",
       "      <td>48.459999</td>\n",
       "      <td>47.465000</td>\n",
       "      <td>47.970001</td>\n",
       "      <td>45.377333</td>\n",
       "      <td>2.646315e+07</td>\n",
       "    </tr>\n",
       "    <tr>\n",
       "      <th>75%</th>\n",
       "      <td>128.662502</td>\n",
       "      <td>129.848900</td>\n",
       "      <td>127.253945</td>\n",
       "      <td>128.640609</td>\n",
       "      <td>113.672460</td>\n",
       "      <td>5.839768e+07</td>\n",
       "    </tr>\n",
       "    <tr>\n",
       "      <th>max</th>\n",
       "      <td>696.280029</td>\n",
       "      <td>700.989990</td>\n",
       "      <td>686.090027</td>\n",
       "      <td>691.690002</td>\n",
       "      <td>691.690002</td>\n",
       "      <td>1.880998e+09</td>\n",
       "    </tr>\n",
       "  </tbody>\n",
       "</table>\n",
       "</div>"
      ],
      "text/plain": [
       "               open          high           low         close     adj_close  \\\n",
       "count  45088.000000  45088.000000  45088.000000  45088.000000  45088.000000   \n",
       "mean      89.266584     90.369825     88.111930     89.271306     85.209631   \n",
       "std      101.626955    103.001073    100.124399    101.592916    100.995967   \n",
       "min        1.076000      1.108667      0.998667      1.053333      1.053333   \n",
       "25%       25.670000     25.930135     25.360001     25.660000     22.076433   \n",
       "50%       47.930000     48.459999     47.465000     47.970001     45.377333   \n",
       "75%      128.662502    129.848900    127.253945    128.640609    113.672460   \n",
       "max      696.280029    700.989990    686.090027    691.690002    691.690002   \n",
       "\n",
       "             volume  \n",
       "count  4.508800e+04  \n",
       "mean   5.297813e+07  \n",
       "std    9.324730e+07  \n",
       "min    5.892000e+05  \n",
       "25%    9.629425e+06  \n",
       "50%    2.646315e+07  \n",
       "75%    5.839768e+07  \n",
       "max    1.880998e+09  "
      ]
     },
     "execution_count": 36,
     "metadata": {},
     "output_type": "execute_result"
    }
   ],
   "source": [
    "df.describe()"
   ]
  },
  {
   "cell_type": "code",
   "execution_count": 37,
   "id": "9c42a262",
   "metadata": {},
   "outputs": [
    {
     "name": "stdout",
     "output_type": "stream",
     "text": [
      "<class 'pandas.core.frame.DataFrame'>\n",
      "RangeIndex: 45088 entries, 0 to 45087\n",
      "Data columns (total 8 columns):\n",
      " #   Column        Non-Null Count  Dtype  \n",
      "---  ------        --------------  -----  \n",
      " 0   stock_symbol  45088 non-null  object \n",
      " 1   date          45088 non-null  object \n",
      " 2   open          45088 non-null  float64\n",
      " 3   high          45088 non-null  float64\n",
      " 4   low           45088 non-null  float64\n",
      " 5   close         45088 non-null  float64\n",
      " 6   adj_close     45088 non-null  float64\n",
      " 7   volume        45088 non-null  int64  \n",
      "dtypes: float64(5), int64(1), object(2)\n",
      "memory usage: 2.8+ MB\n"
     ]
    }
   ],
   "source": [
    "df.info()"
   ]
  },
  {
   "cell_type": "code",
   "execution_count": 40,
   "id": "9040ae63",
   "metadata": {},
   "outputs": [
    {
     "data": {
      "text/plain": [
       "np.int64(0)"
      ]
     },
     "execution_count": 40,
     "metadata": {},
     "output_type": "execute_result"
    }
   ],
   "source": [
    "df.duplicated().sum()"
   ]
  },
  {
   "cell_type": "code",
   "execution_count": 38,
   "id": "b3cbfa42",
   "metadata": {},
   "outputs": [
    {
     "data": {
      "text/plain": [
       "stock_symbol    0\n",
       "date            0\n",
       "open            0\n",
       "high            0\n",
       "low             0\n",
       "close           0\n",
       "adj_close       0\n",
       "volume          0\n",
       "dtype: int64"
      ]
     },
     "execution_count": 38,
     "metadata": {},
     "output_type": "execute_result"
    }
   ],
   "source": [
    "df.isna().sum()"
   ]
  },
  {
   "cell_type": "markdown",
   "id": "d734d7c8",
   "metadata": {},
   "source": [
    "### 📊 Data Visualization"
   ]
  }
 ],
 "metadata": {
  "kernelspec": {
   "display_name": "Python 3",
   "language": "python",
   "name": "python3"
  },
  "language_info": {
   "codemirror_mode": {
    "name": "ipython",
    "version": 3
   },
   "file_extension": ".py",
   "mimetype": "text/x-python",
   "name": "python",
   "nbconvert_exporter": "python",
   "pygments_lexer": "ipython3",
   "version": "3.13.1"
  }
 },
 "nbformat": 4,
 "nbformat_minor": 5
}
